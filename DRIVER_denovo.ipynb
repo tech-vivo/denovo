{
 "cells": [
  {
   "cell_type": "code",
   "execution_count": 1,
   "metadata": {
    "collapsed": true
   },
   "outputs": [],
   "source": [
    "import seaborn as sns\n",
    "from matplotlib import pyplot as plt\n",
    "import denovo\n",
    "%matplotlib inline"
   ]
  },
  {
   "cell_type": "markdown",
   "metadata": {},
   "source": [
    "## Let's just start with a sanity check to make sure it's working"
   ]
  },
  {
   "cell_type": "code",
   "execution_count": 2,
   "metadata": {
    "collapsed": true
   },
   "outputs": [],
   "source": [
    "simple_reads = ['CCCCACT', 'CCCACTGAAA', 'CTGAAAA']"
   ]
  },
  {
   "cell_type": "code",
   "execution_count": 3,
   "metadata": {
    "collapsed": false
   },
   "outputs": [
    {
     "data": {
      "text/plain": [
       "'CCCCACTGAAAA'"
      ]
     },
     "execution_count": 3,
     "metadata": {},
     "output_type": "execute_result"
    }
   ],
   "source": [
    "start,followers = denovo.overlap_all_pairs_easy(simple_reads)\n",
    "denovo.conjoiner(start,followers,simple_reads)  ## looks good"
   ]
  },
  {
   "cell_type": "markdown",
   "metadata": {},
   "source": [
    "## Comparison of overlap algorithms (with or without index)\n",
    "\n",
    "I wrote a second algorithm to look at an indexing technique I read about in a Coursera course I took over the past month. \n",
    "\n",
    "The 'easy' algorithm just does a brute force comparison of all the reads to find overlaps, should take N^2 time.  \n",
    "\n",
    "The 'tricky' algorithm creates an index of sequence fragments that are about half the size of the smallest read. Then it only has to do the lookup for similar objects in the index so this takes something more like 2*N time.\n",
    "\n",
    "####Let's compare them on the test set, 50 reads of length ~1000"
   ]
  },
  {
   "cell_type": "code",
   "execution_count": 4,
   "metadata": {
    "collapsed": false
   },
   "outputs": [
    {
     "name": "stdout",
     "output_type": "stream",
     "text": [
      "CPU times: user 36 ms, sys: 0 ns, total: 36 ms\n",
      "Wall time: 35.7 ms\n"
     ]
    }
   ],
   "source": [
    "%%time \n",
    "assmb = denovo.assemble('coding_challenge_data_set.txt')"
   ]
  },
  {
   "cell_type": "code",
   "execution_count": 5,
   "metadata": {
    "collapsed": false
   },
   "outputs": [
    {
     "name": "stdout",
     "output_type": "stream",
     "text": [
      "CPU times: user 332 ms, sys: 24 ms, total: 356 ms\n",
      "Wall time: 337 ms\n"
     ]
    }
   ],
   "source": [
    "%%time \n",
    "assmb = denovo.assemble('coding_challenge_data_set.txt',1)"
   ]
  },
  {
   "cell_type": "markdown",
   "metadata": {},
   "source": [
    "Well, it looks like building the index cost too much on this dataset size\n",
    "\n",
    "## Let's see if there are improvements on larger datasets"
   ]
  },
  {
   "cell_type": "code",
   "execution_count": 6,
   "metadata": {
    "collapsed": false
   },
   "outputs": [],
   "source": [
    "import random\n",
    "from math import floor\n",
    "\n",
    "### This function just builds an example dataset\n",
    "### The sequence_size is only approximate to within +- max_segment\n",
    "def gen_test_seq(sequence_size=100,max_segment=10):\n",
    "    test_sequence = ''.join([random.choice(['A','C','T','G']) for i in range(sequence_size)])\n",
    "\n",
    "    ind = 0\n",
    "    endspot=0\n",
    "    test_reads = []\n",
    "    while True:\n",
    "        seg_size = random.randrange(floor(max_segment*3/4),max_segment)\n",
    "        test_reads.append(test_sequence[ind:ind+seg_size])\n",
    "        overlap_size = random.randrange(floor(seg_size/2),floor(seg_size*3/4))\n",
    "        ind = ind + seg_size - overlap_size\n",
    "        endspot = ind+overlap_size\n",
    "        if(ind>len(test_sequence)-max_segment):\n",
    "            break\n",
    "\n",
    "    test_seq = test_sequence[:endspot]\n",
    "    return test_seq, test_reads"
   ]
  },
  {
   "cell_type": "markdown",
   "metadata": {},
   "source": [
    "### Viewing the size distribution of test reads\n",
    "Just to make sure that test set generator is working right"
   ]
  },
  {
   "cell_type": "code",
   "execution_count": 7,
   "metadata": {
    "collapsed": false
   },
   "outputs": [
    {
     "name": "stdout",
     "output_type": "stream",
     "text": [
      "301\n",
      "9982\n"
     ]
    },
    {
     "data": {
      "image/png": "[encoded data removed]",
      "text/plain": [
       "<matplotlib.figure.Figure at 0x7efbbbed0f90>"
      ]
     },
     "metadata": {},
     "output_type": "display_data"
    }
   ],
   "source": [
    "test_seq,test_reads = gen_test_seq(10000,100)\n",
    "lns = [len(r) for r in test_reads]\n",
    "sns.distplot(lns,bins=50,kde=False)\n",
    "print len(test_reads)\n",
    "print len(test_seq)"
   ]
  },
  {
   "cell_type": "markdown",
   "metadata": {},
   "source": [
    "### Record runtimes on test datasets"
   ]
  },
  {
   "cell_type": "code",
   "execution_count": 8,
   "metadata": {
    "collapsed": false
   },
   "outputs": [],
   "source": [
    "import time\n",
    "time_easy=[]\n",
    "time_tricky=[]\n",
    "sizes_to_test = [200,300,500,800,1000,2000,3000,5000,8000,10000,20000,30000,50000]\n",
    "for test_size in sizes_to_test:\n",
    "    test_seq,test_reads = gen_test_seq(test_size,100)\n",
    "    \n",
    "    time0 = time.time()\n",
    "    start,followers = denovo.overlap_all_pairs_easy(test_reads)\n",
    "    time_easy.append(time.time()-time0)\n",
    "\n",
    "    time0 = time.time()\n",
    "    start,followers = denovo.overlap_all_pairs_tricky(test_reads)\n",
    "    time_tricky.append(time.time()-time0)\n",
    "\n"
   ]
  },
  {
   "cell_type": "markdown",
   "metadata": {},
   "source": [
    "## Plot the runtime comparison\n",
    "Pretty clear that the index takes longer on small datasets, but runs faster on bigger ones\n",
    "\n",
    "the loglog plot shows the brute force is O(N^2) and the index is O(~N)"
   ]
  },
  {
   "cell_type": "code",
   "execution_count": 9,
   "metadata": {
    "collapsed": false
   },
   "outputs": [
    {
     "data": {
      "text/plain": [
       "<matplotlib.text.Text at 0x7efbbb8bc690>"
      ]
     },
     "execution_count": 9,
     "metadata": {},
     "output_type": "execute_result"
    },
    {
     "data": {
      "image/png": "[encoded data removed]",
      "text/plain": [
       "<matplotlib.figure.Figure at 0x7efbbb9c9750>"
      ]
     },
     "metadata": {},
     "output_type": "display_data"
    }
   ],
   "source": [
    "sns.set_style(\"darkgrid\")\n",
    "plt.loglog(sizes_to_test,time_easy,label='compare all O(N^2)')\n",
    "plt.loglog(sizes_to_test,time_tricky,label='use index O(~N)')\n",
    "plt.legend(loc='upper left')\n",
    "plt.xlabel('genome size (bp)')\n",
    "plt.ylabel('runtime (s)')"
   ]
  },
  {
   "cell_type": "code",
   "execution_count": null,
   "metadata": {
    "collapsed": true
   },
   "outputs": [],
   "source": []
  }
 ],
 "metadata": {
  "kernelspec": {
   "display_name": "Python 2",
   "language": "python",
   "name": "python2"
  },
  "language_info": {
   "codemirror_mode": {
    "name": "ipython",
    "version": 2
   },
   "file_extension": ".py",
   "mimetype": "text/x-python",
   "name": "python",
   "nbconvert_exporter": "python",
   "pygments_lexer": "ipython2",
   "version": "2.7.12"
  }
 },
 "nbformat": 4,
 "nbformat_minor": 0
}
